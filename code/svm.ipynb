{
 "cells": [
  {
   "cell_type": "code",
   "execution_count": 1,
   "metadata": {
    "colab": {
     "base_uri": "https://localhost:8080/"
    },
    "executionInfo": {
     "elapsed": 2683,
     "status": "ok",
     "timestamp": 1605883816984,
     "user": {
      "displayName": "Jinghan Sun",
      "photoUrl": "https://lh3.googleusercontent.com/a-/AOh14Gjn1LY-Outcq9qwjpgKonWBRPpydiDrEesjKRtQD44=s64",
      "userId": "14505334765051599201"
     },
     "user_tz": -480
    },
    "id": "biEcAAVjI5VA",
    "outputId": "df902f84-3af3-4102-dcca-598ade89987f"
   },
   "outputs": [],
   "source": [
    "import pandas as pd\n",
    "import matplotlib.pyplot as plt\n",
    "import numpy as np\n",
    "import seaborn as sns\n",
    "\n",
    "from sklearn.model_selection import GridSearchCV\n",
    "from sklearn.svm import SVC\n",
    "from sklearn.metrics import plot_confusion_matrix\n",
    "from sklearn.metrics import (\n",
    "    confusion_matrix, \n",
    "    precision_recall_curve,\n",
    "    auc,\n",
    "    f1_score,\n",
    "    recall_score,\n",
    "    accuracy_score,\n",
    "    precision_score,\n",
    "    classification_report\n",
    ")\n",
    "\n",
    "from imblearn.over_sampling import SMOTE\n",
    "from imblearn.pipeline import Pipeline\n",
    "from collections import Counter"
   ]
  },
  {
   "cell_type": "code",
   "execution_count": 2,
   "metadata": {
    "id": "3QfBZb4OJBTd"
   },
   "outputs": [],
   "source": [
    "data_folder = 'dataset'"
   ]
  },
  {
   "cell_type": "code",
   "execution_count": 3,
   "metadata": {
    "id": "NeBfHLWwJBZP"
   },
   "outputs": [],
   "source": [
    "# load train and test data\n",
    "train_df = pd.read_csv(data_folder+'/training.csv')\n",
    "test_df = pd.read_csv(data_folder+'/testing.csv')"
   ]
  },
  {
   "cell_type": "code",
   "execution_count": 4,
   "metadata": {
    "id": "7OuzEA-hJBcO"
   },
   "outputs": [],
   "source": [
    "train_x = train_df.iloc[:,:-1]\n",
    "train_y = train_df.iloc[:,-1]\n",
    "test_x = test_df.iloc[:,:-1]\n",
    "test_y = test_df.iloc[:,-1]"
   ]
  },
  {
   "cell_type": "code",
   "execution_count": 5,
   "metadata": {
    "colab": {
     "base_uri": "https://localhost:8080/"
    },
    "executionInfo": {
     "elapsed": 346560,
     "status": "ok",
     "timestamp": 1605888093815,
     "user": {
      "displayName": "Jinghan Sun",
      "photoUrl": "https://lh3.googleusercontent.com/a-/AOh14Gjn1LY-Outcq9qwjpgKonWBRPpydiDrEesjKRtQD44=s64",
      "userId": "14505334765051599201"
     },
     "user_tz": -480
    },
    "id": "QgDArgknJBfU",
    "outputId": "e34910d3-7c88-40a3-9b3b-3540e8a37172"
   },
   "outputs": [
    {
     "data": {
      "text/plain": [
       "SVC(C=10, gamma=0.001, probability=True, random_state=0)"
      ]
     },
     "execution_count": 5,
     "metadata": {},
     "output_type": "execute_result"
    }
   ],
   "source": [
    "# Build SVM classifier\n",
    "classifier= SVC(kernel='rbf',C = 10,gamma=0.001,probability=True,random_state=0)\n",
    "classifier.fit(train_x, train_y)"
   ]
  },
  {
   "cell_type": "code",
   "execution_count": 6,
   "metadata": {
    "id": "3ZPv5H_3JBiY"
   },
   "outputs": [],
   "source": [
    "# Prediction on testing set\n",
    "y_pred = classifier.predict(test_x)"
   ]
  },
  {
   "cell_type": "code",
   "execution_count": 7,
   "metadata": {
    "colab": {
     "base_uri": "https://localhost:8080/",
     "height": 265
    },
    "executionInfo": {
     "elapsed": 1152,
     "status": "ok",
     "timestamp": 1605888136713,
     "user": {
      "displayName": "Jinghan Sun",
      "photoUrl": "https://lh3.googleusercontent.com/a-/AOh14Gjn1LY-Outcq9qwjpgKonWBRPpydiDrEesjKRtQD44=s64",
      "userId": "14505334765051599201"
     },
     "user_tz": -480
    },
    "id": "YXaTz9YuJBlm",
    "outputId": "28faeb73-b26b-4c6d-fc82-0b6045ddf35d"
   },
   "outputs": [
    {
     "data": {
      "image/png": "[encoded data removed]",
      "text/plain": [
       "<Figure size 432x288 with 2 Axes>"
      ]
     },
     "metadata": {
      "needs_background": "light"
     },
     "output_type": "display_data"
    }
   ],
   "source": [
    "# confusion matrix\n",
    "sns.heatmap(confusion_matrix(test_y, y_pred),annot=True,fmt='d',cmap='viridis')\n",
    "plt.show()"
   ]
  },
  {
   "cell_type": "code",
   "execution_count": 8,
   "metadata": {
    "colab": {
     "base_uri": "https://localhost:8080/"
    },
    "executionInfo": {
     "elapsed": 3618,
     "status": "ok",
     "timestamp": 1605884201208,
     "user": {
      "displayName": "Jinghan Sun",
      "photoUrl": "https://lh3.googleusercontent.com/a-/AOh14Gjn1LY-Outcq9qwjpgKonWBRPpydiDrEesjKRtQD44=s64",
      "userId": "14505334765051599201"
     },
     "user_tz": -480
    },
    "id": "uZUd0_6kJbPm",
    "outputId": "deed0b9c-4c7b-4122-9400-85d0f0c33603"
   },
   "outputs": [
    {
     "name": "stdout",
     "output_type": "stream",
     "text": [
      "Precision Score=0.915\n",
      "Recall Score=0.798\n",
      "F1-score=0.852\n"
     ]
    }
   ],
   "source": [
    "# precision score\n",
    "precision = precision_score(test_y, y_pred)\n",
    "# recall score\n",
    "recall = recall_score(test_y, y_pred)\n",
    "# calculate f1 score and auc\n",
    "f1 = f1_score(test_y, y_pred)\n",
    "print('Precision Score=%.3f\\nRecall Score=%.3f\\nF1-score=%.3f' % (precision,recall,f1))"
   ]
  },
  {
   "cell_type": "code",
   "execution_count": 9,
   "metadata": {
    "id": "PU93il_1Jbbd"
   },
   "outputs": [],
   "source": [
    "# predicted probabilty\n",
    "y_pred_proba = classifier.predict_proba(test_x)[:,1]"
   ]
  },
  {
   "cell_type": "code",
   "execution_count": 10,
   "metadata": {
    "id": "e0_GLZhxJbfd"
   },
   "outputs": [],
   "source": [
    "## Precison-Recall Curve\n",
    "SVM_precision,SVM_recall,_ = precision_recall_curve(test_y,y_pred_proba)"
   ]
  },
  {
   "cell_type": "code",
   "execution_count": 11,
   "metadata": {
    "colab": {
     "base_uri": "https://localhost:8080/"
    },
    "executionInfo": {
     "elapsed": 6211,
     "status": "ok",
     "timestamp": 1605884203814,
     "user": {
      "displayName": "Jinghan Sun",
      "photoUrl": "https://lh3.googleusercontent.com/a-/AOh14Gjn1LY-Outcq9qwjpgKonWBRPpydiDrEesjKRtQD44=s64",
      "userId": "14505334765051599201"
     },
     "user_tz": -480
    },
    "id": "oimUQ-w-JbkM",
    "outputId": "abc74135-e80c-4f28-a3c4-80c5ff244e4a"
   },
   "outputs": [
    {
     "name": "stdout",
     "output_type": "stream",
     "text": [
      "AUC : 0.854\n"
     ]
    }
   ],
   "source": [
    "# Compute area the curve of Precision Recall Curve\n",
    "prc_auc = auc(SVM_recall,SVM_precision)\n",
    "print (\"AUC : %.3f\" % prc_auc)"
   ]
  },
  {
   "cell_type": "code",
   "execution_count": 12,
   "metadata": {
    "colab": {
     "base_uri": "https://localhost:8080/",
     "height": 279
    },
    "executionInfo": {
     "elapsed": 6203,
     "status": "ok",
     "timestamp": 1605884203814,
     "user": {
      "displayName": "Jinghan Sun",
      "photoUrl": "https://lh3.googleusercontent.com/a-/AOh14Gjn1LY-Outcq9qwjpgKonWBRPpydiDrEesjKRtQD44=s64",
      "userId": "14505334765051599201"
     },
     "user_tz": -480
    },
    "id": "w-AG4-tvJwjh",
    "outputId": "3ff6db32-4f3e-4fa7-9af1-8dc832ade5d8"
   },
   "outputs": [
    {
     "data": {
      "image/png": "[encoded data removed]",
      "text/plain": [
       "<Figure size 432x288 with 1 Axes>"
      ]
     },
     "metadata": {
      "needs_background": "light"
     },
     "output_type": "display_data"
    }
   ],
   "source": [
    "# plot precision recall curve\n",
    "plt.plot(SVM_recall,SVM_precision,linestyle='--',label='Before oversampling')\n",
    "plt.xlabel('Recall')\n",
    "plt.ylabel('Precision')\n",
    "plt.legend()\n",
    "plt.show()"
   ]
  },
  {
   "cell_type": "code",
   "execution_count": 25,
   "metadata": {
    "id": "dKb5patOJwn8"
   },
   "outputs": [],
   "source": [
    "#### oversampling on training data\n",
    "sm = SMOTE(sampling_strategy=0.2,random_state=0)"
   ]
  },
  {
   "cell_type": "code",
   "execution_count": 26,
   "metadata": {
    "id": "VS2RDxl7Jwsl"
   },
   "outputs": [],
   "source": [
    "steps = [('o',sm)]\n",
    "pipeline = Pipeline(steps=steps)"
   ]
  },
  {
   "cell_type": "code",
   "execution_count": 27,
   "metadata": {
    "colab": {
     "base_uri": "https://localhost:8080/"
    },
    "executionInfo": {
     "elapsed": 6510,
     "status": "ok",
     "timestamp": 1605884204134,
     "user": {
      "displayName": "Jinghan Sun",
      "photoUrl": "https://lh3.googleusercontent.com/a-/AOh14Gjn1LY-Outcq9qwjpgKonWBRPpydiDrEesjKRtQD44=s64",
      "userId": "14505334765051599201"
     },
     "user_tz": -480
    },
    "id": "NqSgPn0OJwxH",
    "outputId": "8628efa5-a742-4a48-d286-f1858075b7a3"
   },
   "outputs": [],
   "source": [
    "train_x_resample,train_y_resample = sm.fit_resample(train_x,train_y) "
   ]
  },
  {
   "cell_type": "code",
   "execution_count": 28,
   "metadata": {
    "colab": {
     "base_uri": "https://localhost:8080/"
    },
    "executionInfo": {
     "elapsed": 6505,
     "status": "ok",
     "timestamp": 1605884204134,
     "user": {
      "displayName": "Jinghan Sun",
      "photoUrl": "https://lh3.googleusercontent.com/a-/AOh14Gjn1LY-Outcq9qwjpgKonWBRPpydiDrEesjKRtQD44=s64",
      "userId": "14505334765051599201"
     },
     "user_tz": -480
    },
    "id": "3BI73-9NJBsH",
    "outputId": "ee105454-7fae-4390-bb8b-299fef428059"
   },
   "outputs": [
    {
     "data": {
      "text/plain": [
       "Counter({0: 224770, 1: 44954})"
      ]
     },
     "execution_count": 28,
     "metadata": {},
     "output_type": "execute_result"
    }
   ],
   "source": [
    "counter = Counter(train_y_resample)\n",
    "counter"
   ]
  },
  {
   "cell_type": "code",
   "execution_count": 29,
   "metadata": {
    "colab": {
     "base_uri": "https://localhost:8080/"
    },
    "executionInfo": {
     "elapsed": 2810167,
     "status": "ok",
     "timestamp": 1605890962368,
     "user": {
      "displayName": "Jinghan Sun",
      "photoUrl": "https://lh3.googleusercontent.com/a-/AOh14Gjn1LY-Outcq9qwjpgKonWBRPpydiDrEesjKRtQD44=s64",
      "userId": "14505334765051599201"
     },
     "user_tz": -480
    },
    "id": "i6tEtZIBNgbj",
    "outputId": "af445b1a-0637-4e5f-9601-c9d8892ccfd0"
   },
   "outputs": [
    {
     "data": {
      "text/plain": [
       "SVC(C=10, gamma=0.001, probability=True, random_state=0)"
      ]
     },
     "execution_count": 29,
     "metadata": {},
     "output_type": "execute_result"
    }
   ],
   "source": [
    "classifier.fit(train_x_resample, train_y_resample)"
   ]
  },
  {
   "cell_type": "code",
   "execution_count": 30,
   "metadata": {
    "id": "JqtZukd0KLFh"
   },
   "outputs": [],
   "source": [
    "y_pred_resample = classifier.predict(test_x)"
   ]
  },
  {
   "cell_type": "code",
   "execution_count": 37,
   "metadata": {
    "colab": {
     "base_uri": "https://localhost:8080/",
     "height": 265
    },
    "executionInfo": {
     "elapsed": 879,
     "status": "ok",
     "timestamp": 1605891345625,
     "user": {
      "displayName": "Jinghan Sun",
      "photoUrl": "https://lh3.googleusercontent.com/a-/AOh14Gjn1LY-Outcq9qwjpgKonWBRPpydiDrEesjKRtQD44=s64",
      "userId": "14505334765051599201"
     },
     "user_tz": -480
    },
    "id": "6EpWe0CJ9ETo",
    "outputId": "faf30d8c-b51d-4ab7-d91e-992d54af8632"
   },
   "outputs": [
    {
     "data": {
      "image/png": "[encoded data removed]",
      "text/plain": [
       "<Figure size 432x288 with 2 Axes>"
      ]
     },
     "metadata": {
      "needs_background": "light"
     },
     "output_type": "display_data"
    }
   ],
   "source": [
    "# confusion matrix\n",
    "sns.heatmap(confusion_matrix(test_y, y_pred_resample),annot=True,fmt='d',cmap='viridis')\n",
    "plt.show()"
   ]
  },
  {
   "cell_type": "code",
   "execution_count": 32,
   "metadata": {
    "colab": {
     "base_uri": "https://localhost:8080/"
    },
    "executionInfo": {
     "elapsed": 903,
     "status": "ok",
     "timestamp": 1605891349429,
     "user": {
      "displayName": "Jinghan Sun",
      "photoUrl": "https://lh3.googleusercontent.com/a-/AOh14Gjn1LY-Outcq9qwjpgKonWBRPpydiDrEesjKRtQD44=s64",
      "userId": "14505334765051599201"
     },
     "user_tz": -480
    },
    "id": "msRvWSafKLKi",
    "outputId": "4ba95a8a-e03e-4e98-cfa7-816ec26fa43a"
   },
   "outputs": [
    {
     "name": "stdout",
     "output_type": "stream",
     "text": [
      "Precision Score=0.457\n",
      "Recall Score=0.915\n",
      "F1-score=0.610\n"
     ]
    }
   ],
   "source": [
    "# precision score\n",
    "precision = precision_score(test_y, y_pred_resample)\n",
    "# recall score\n",
    "recall = recall_score(test_y, y_pred_resample)\n",
    "# calculate f1 score and auc\n",
    "f1 = f1_score(test_y, y_pred_resample)\n",
    "print('Precision Score=%.3f\\nRecall Score=%.3f\\nF1-score=%.3f' % (precision,recall,f1))"
   ]
  },
  {
   "cell_type": "code",
   "execution_count": 33,
   "metadata": {
    "id": "OO1UsH7pKLUH"
   },
   "outputs": [],
   "source": [
    "# predicted probabilty\n",
    "y_pred_proba_resample = classifier.predict_proba(test_x)[:,1]"
   ]
  },
  {
   "cell_type": "code",
   "execution_count": 34,
   "metadata": {
    "id": "RYQoJSv7KLZP"
   },
   "outputs": [],
   "source": [
    "#Precision Recall Curve\n",
    "SVM_precision_resample,SVM_recall_resample,thresholds = precision_recall_curve(test_y,y_pred_proba_resample)"
   ]
  },
  {
   "cell_type": "code",
   "execution_count": 35,
   "metadata": {
    "colab": {
     "base_uri": "https://localhost:8080/"
    },
    "executionInfo": {
     "elapsed": 827,
     "status": "ok",
     "timestamp": 1605891432974,
     "user": {
      "displayName": "Jinghan Sun",
      "photoUrl": "https://lh3.googleusercontent.com/a-/AOh14Gjn1LY-Outcq9qwjpgKonWBRPpydiDrEesjKRtQD44=s64",
      "userId": "14505334765051599201"
     },
     "user_tz": -480
    },
    "id": "_hIoemO_Kgg4",
    "outputId": "98a10647-f522-4a1e-9ac4-8baf44fcd6c7"
   },
   "outputs": [
    {
     "name": "stdout",
     "output_type": "stream",
     "text": [
      "Area under the PRC curve : 0.807399\n"
     ]
    }
   ],
   "source": [
    "# Compute area the curve of Precision Recall Curve\n",
    "prc_auc_resample = auc(SVM_recall_resample,SVM_precision_resample)\n",
    "print (\"Area under the PRC curve : %f\" % prc_auc_resample)"
   ]
  },
  {
   "cell_type": "code",
   "execution_count": 36,
   "metadata": {
    "colab": {
     "base_uri": "https://localhost:8080/",
     "height": 279
    },
    "executionInfo": {
     "elapsed": 1227,
     "status": "ok",
     "timestamp": 1605891463083,
     "user": {
      "displayName": "Jinghan Sun",
      "photoUrl": "https://lh3.googleusercontent.com/a-/AOh14Gjn1LY-Outcq9qwjpgKonWBRPpydiDrEesjKRtQD44=s64",
      "userId": "14505334765051599201"
     },
     "user_tz": -480
    },
    "id": "9dsEQGGWKgma",
    "outputId": "6dd02c39-93b2-4072-fb03-76185e741007"
   },
   "outputs": [
    {
     "data": {
      "image/png": "[encoded data removed]",
      "text/plain": [
       "<Figure size 432x288 with 1 Axes>"
      ]
     },
     "metadata": {
      "needs_background": "light"
     },
     "output_type": "display_data"
    }
   ],
   "source": [
    "# plot\n",
    "plt.plot(SVM_recall,SVM_precision,linestyle='--',label='Before oversampling')\n",
    "plt.plot(SVM_recall_resample,SVM_precision_resample,marker='.',label='After oversampling')\n",
    "plt.xlabel('Recall')\n",
    "plt.ylabel('Precision')\n",
    "plt.legend()\n",
    "plt.show()"
   ]
  }
 ],
 "metadata": {
  "colab": {
   "name": "svm.ipynb",
   "provenance": []
  },
  "kernelspec": {
   "display_name": "Python 3",
   "language": "python",
   "name": "python3"
  },
  "language_info": {
   "codemirror_mode": {
    "name": "ipython",
    "version": 3
   },
   "file_extension": ".py",
   "mimetype": "text/x-python",
   "name": "python",
   "nbconvert_exporter": "python",
   "pygments_lexer": "ipython3",
   "version": "3.7.3"
  }
 },
 "nbformat": 4,
 "nbformat_minor": 1
}
