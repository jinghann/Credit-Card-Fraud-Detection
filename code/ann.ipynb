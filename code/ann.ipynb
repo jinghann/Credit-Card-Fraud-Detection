{
 "cells": [
  {
   "cell_type": "code",
   "execution_count": 1,
   "metadata": {
    "id": "PJQopr6-8F1a"
   },
   "outputs": [],
   "source": [
    "import pandas as pd\n",
    "import sklearn as sk\n",
    "from sklearn.neural_network import MLPClassifier\n",
    "from sklearn.metrics import (\n",
    "    confusion_matrix, \n",
    "    precision_recall_curve,\n",
    "    auc,\n",
    "    f1_score,\n",
    "    recall_score,\n",
    "    precision_score\n",
    ")\n",
    "import matplotlib.pyplot as plt\n",
    "import seaborn as sns\n",
    "from imblearn.over_sampling import SMOTE\n",
    "from imblearn.pipeline import Pipeline\n",
    "from collections import Counter\n",
    "from sklearn.preprocessing import StandardScaler"
   ]
  },
  {
   "cell_type": "code",
   "execution_count": 2,
   "metadata": {
    "id": "FUS41t4Z8F1b"
   },
   "outputs": [],
   "source": [
    "# load train and test data\n",
    "folder = 'dataset'\n",
    "\n",
    "train_df = pd.read_csv(folder+'/training.csv')\n",
    "test_df = pd.read_csv(folder+'/testing.csv')"
   ]
  },
  {
   "cell_type": "code",
   "execution_count": 3,
   "metadata": {
    "id": "eva-Vg8x8F1b",
    "outputId": "d295b435-1cb2-4a58-a16b-9111d4ce1447"
   },
   "outputs": [
    {
     "data": {
      "text/html": [
       "<div>\n",
       "<style scoped>\n",
       "    .dataframe tbody tr th:only-of-type {\n",
       "        vertical-align: middle;\n",
       "    }\n",
       "\n",
       "    .dataframe tbody tr th {\n",
       "        vertical-align: top;\n",
       "    }\n",
       "\n",
       "    .dataframe thead th {\n",
       "        text-align: right;\n",
       "    }\n",
       "</style>\n",
       "<table border=\"1\" class=\"dataframe\">\n",
       "  <thead>\n",
       "    <tr style=\"text-align: right;\">\n",
       "      <th></th>\n",
       "      <th>V1</th>\n",
       "      <th>V2</th>\n",
       "      <th>V3</th>\n",
       "      <th>V4</th>\n",
       "      <th>V5</th>\n",
       "      <th>V6</th>\n",
       "      <th>V7</th>\n",
       "      <th>V9</th>\n",
       "      <th>V10</th>\n",
       "      <th>V11</th>\n",
       "      <th>V12</th>\n",
       "      <th>V14</th>\n",
       "      <th>V16</th>\n",
       "      <th>V17</th>\n",
       "      <th>V18</th>\n",
       "      <th>V19</th>\n",
       "      <th>V24</th>\n",
       "      <th>V27</th>\n",
       "      <th>Amount</th>\n",
       "      <th>Class</th>\n",
       "    </tr>\n",
       "  </thead>\n",
       "  <tbody>\n",
       "    <tr>\n",
       "      <th>count</th>\n",
       "      <td>225168.000000</td>\n",
       "      <td>225168.000000</td>\n",
       "      <td>225168.000000</td>\n",
       "      <td>225168.000000</td>\n",
       "      <td>225168.000000</td>\n",
       "      <td>225168.000000</td>\n",
       "      <td>225168.000000</td>\n",
       "      <td>225168.000000</td>\n",
       "      <td>225168.000000</td>\n",
       "      <td>225168.000000</td>\n",
       "      <td>225168.000000</td>\n",
       "      <td>225168.000000</td>\n",
       "      <td>225168.000000</td>\n",
       "      <td>225168.000000</td>\n",
       "      <td>225168.000000</td>\n",
       "      <td>225168.000000</td>\n",
       "      <td>225168.000000</td>\n",
       "      <td>225168.000000</td>\n",
       "      <td>225168.000000</td>\n",
       "      <td>225168.000000</td>\n",
       "    </tr>\n",
       "    <tr>\n",
       "      <th>mean</th>\n",
       "      <td>0.038152</td>\n",
       "      <td>0.040981</td>\n",
       "      <td>0.016070</td>\n",
       "      <td>-0.020380</td>\n",
       "      <td>0.004002</td>\n",
       "      <td>0.003430</td>\n",
       "      <td>-0.002097</td>\n",
       "      <td>0.001811</td>\n",
       "      <td>-0.003740</td>\n",
       "      <td>0.003046</td>\n",
       "      <td>-0.002577</td>\n",
       "      <td>-0.000120</td>\n",
       "      <td>-0.003261</td>\n",
       "      <td>-0.000483</td>\n",
       "      <td>0.002486</td>\n",
       "      <td>0.002573</td>\n",
       "      <td>-0.000670</td>\n",
       "      <td>-0.000778</td>\n",
       "      <td>82.678707</td>\n",
       "      <td>0.001768</td>\n",
       "    </tr>\n",
       "    <tr>\n",
       "      <th>std</th>\n",
       "      <td>1.768452</td>\n",
       "      <td>1.381479</td>\n",
       "      <td>1.455511</td>\n",
       "      <td>1.383925</td>\n",
       "      <td>1.199876</td>\n",
       "      <td>1.269894</td>\n",
       "      <td>1.073636</td>\n",
       "      <td>1.094173</td>\n",
       "      <td>1.076580</td>\n",
       "      <td>1.017137</td>\n",
       "      <td>0.996482</td>\n",
       "      <td>0.951634</td>\n",
       "      <td>0.868434</td>\n",
       "      <td>0.840448</td>\n",
       "      <td>0.835432</td>\n",
       "      <td>0.807979</td>\n",
       "      <td>0.604908</td>\n",
       "      <td>0.363668</td>\n",
       "      <td>182.830591</td>\n",
       "      <td>0.042005</td>\n",
       "    </tr>\n",
       "    <tr>\n",
       "      <th>min</th>\n",
       "      <td>-30.552380</td>\n",
       "      <td>-16.709995</td>\n",
       "      <td>-31.103685</td>\n",
       "      <td>-5.683171</td>\n",
       "      <td>-22.105532</td>\n",
       "      <td>-6.729542</td>\n",
       "      <td>-43.557242</td>\n",
       "      <td>-13.434066</td>\n",
       "      <td>-24.588262</td>\n",
       "      <td>-3.825953</td>\n",
       "      <td>-18.683715</td>\n",
       "      <td>-19.214325</td>\n",
       "      <td>-14.129855</td>\n",
       "      <td>-25.162799</td>\n",
       "      <td>-9.498746</td>\n",
       "      <td>-4.932733</td>\n",
       "      <td>-2.836627</td>\n",
       "      <td>-8.260909</td>\n",
       "      <td>0.000000</td>\n",
       "      <td>0.000000</td>\n",
       "    </tr>\n",
       "    <tr>\n",
       "      <th>25%</th>\n",
       "      <td>-0.912768</td>\n",
       "      <td>-0.591434</td>\n",
       "      <td>-0.874710</td>\n",
       "      <td>-0.851391</td>\n",
       "      <td>-0.689904</td>\n",
       "      <td>-0.766979</td>\n",
       "      <td>-0.549921</td>\n",
       "      <td>-0.639625</td>\n",
       "      <td>-0.535903</td>\n",
       "      <td>-0.759088</td>\n",
       "      <td>-0.407384</td>\n",
       "      <td>-0.423384</td>\n",
       "      <td>-0.467746</td>\n",
       "      <td>-0.483408</td>\n",
       "      <td>-0.497218</td>\n",
       "      <td>-0.451730</td>\n",
       "      <td>-0.355769</td>\n",
       "      <td>-0.070515</td>\n",
       "      <td>5.990000</td>\n",
       "      <td>0.000000</td>\n",
       "    </tr>\n",
       "    <tr>\n",
       "      <th>50%</th>\n",
       "      <td>0.020072</td>\n",
       "      <td>0.067294</td>\n",
       "      <td>0.182582</td>\n",
       "      <td>-0.029545</td>\n",
       "      <td>-0.053392</td>\n",
       "      <td>-0.274660</td>\n",
       "      <td>0.042595</td>\n",
       "      <td>-0.049418</td>\n",
       "      <td>-0.096167</td>\n",
       "      <td>-0.029600</td>\n",
       "      <td>0.139540</td>\n",
       "      <td>0.051002</td>\n",
       "      <td>0.064651</td>\n",
       "      <td>-0.067036</td>\n",
       "      <td>-0.001791</td>\n",
       "      <td>0.005304</td>\n",
       "      <td>0.040630</td>\n",
       "      <td>0.001583</td>\n",
       "      <td>22.450000</td>\n",
       "      <td>0.000000</td>\n",
       "    </tr>\n",
       "    <tr>\n",
       "      <th>75%</th>\n",
       "      <td>1.314710</td>\n",
       "      <td>0.806490</td>\n",
       "      <td>1.025287</td>\n",
       "      <td>0.724994</td>\n",
       "      <td>0.609940</td>\n",
       "      <td>0.395248</td>\n",
       "      <td>0.570350</td>\n",
       "      <td>0.599372</td>\n",
       "      <td>0.442096</td>\n",
       "      <td>0.742384</td>\n",
       "      <td>0.615226</td>\n",
       "      <td>0.492869</td>\n",
       "      <td>0.520367</td>\n",
       "      <td>0.398870</td>\n",
       "      <td>0.502911</td>\n",
       "      <td>0.458326</td>\n",
       "      <td>0.438819</td>\n",
       "      <td>0.091308</td>\n",
       "      <td>77.500000</td>\n",
       "      <td>0.000000</td>\n",
       "    </tr>\n",
       "    <tr>\n",
       "      <th>max</th>\n",
       "      <td>2.334476</td>\n",
       "      <td>22.057729</td>\n",
       "      <td>4.187811</td>\n",
       "      <td>11.927512</td>\n",
       "      <td>11.095089</td>\n",
       "      <td>11.680044</td>\n",
       "      <td>10.247050</td>\n",
       "      <td>10.392889</td>\n",
       "      <td>15.331742</td>\n",
       "      <td>12.018913</td>\n",
       "      <td>4.846452</td>\n",
       "      <td>7.754599</td>\n",
       "      <td>4.816252</td>\n",
       "      <td>9.253526</td>\n",
       "      <td>4.295648</td>\n",
       "      <td>5.228342</td>\n",
       "      <td>4.022866</td>\n",
       "      <td>4.591416</td>\n",
       "      <td>2641.870000</td>\n",
       "      <td>1.000000</td>\n",
       "    </tr>\n",
       "  </tbody>\n",
       "</table>\n",
       "</div>"
      ],
      "text/plain": [
       "                  V1             V2             V3             V4  \\\n",
       "count  225168.000000  225168.000000  225168.000000  225168.000000   \n",
       "mean        0.038152       0.040981       0.016070      -0.020380   \n",
       "std         1.768452       1.381479       1.455511       1.383925   \n",
       "min       -30.552380     -16.709995     -31.103685      -5.683171   \n",
       "25%        -0.912768      -0.591434      -0.874710      -0.851391   \n",
       "50%         0.020072       0.067294       0.182582      -0.029545   \n",
       "75%         1.314710       0.806490       1.025287       0.724994   \n",
       "max         2.334476      22.057729       4.187811      11.927512   \n",
       "\n",
       "                  V5             V6             V7             V9  \\\n",
       "count  225168.000000  225168.000000  225168.000000  225168.000000   \n",
       "mean        0.004002       0.003430      -0.002097       0.001811   \n",
       "std         1.199876       1.269894       1.073636       1.094173   \n",
       "min       -22.105532      -6.729542     -43.557242     -13.434066   \n",
       "25%        -0.689904      -0.766979      -0.549921      -0.639625   \n",
       "50%        -0.053392      -0.274660       0.042595      -0.049418   \n",
       "75%         0.609940       0.395248       0.570350       0.599372   \n",
       "max        11.095089      11.680044      10.247050      10.392889   \n",
       "\n",
       "                 V10            V11            V12            V14  \\\n",
       "count  225168.000000  225168.000000  225168.000000  225168.000000   \n",
       "mean       -0.003740       0.003046      -0.002577      -0.000120   \n",
       "std         1.076580       1.017137       0.996482       0.951634   \n",
       "min       -24.588262      -3.825953     -18.683715     -19.214325   \n",
       "25%        -0.535903      -0.759088      -0.407384      -0.423384   \n",
       "50%        -0.096167      -0.029600       0.139540       0.051002   \n",
       "75%         0.442096       0.742384       0.615226       0.492869   \n",
       "max        15.331742      12.018913       4.846452       7.754599   \n",
       "\n",
       "                 V16            V17            V18            V19  \\\n",
       "count  225168.000000  225168.000000  225168.000000  225168.000000   \n",
       "mean       -0.003261      -0.000483       0.002486       0.002573   \n",
       "std         0.868434       0.840448       0.835432       0.807979   \n",
       "min       -14.129855     -25.162799      -9.498746      -4.932733   \n",
       "25%        -0.467746      -0.483408      -0.497218      -0.451730   \n",
       "50%         0.064651      -0.067036      -0.001791       0.005304   \n",
       "75%         0.520367       0.398870       0.502911       0.458326   \n",
       "max         4.816252       9.253526       4.295648       5.228342   \n",
       "\n",
       "                 V24            V27         Amount          Class  \n",
       "count  225168.000000  225168.000000  225168.000000  225168.000000  \n",
       "mean       -0.000670      -0.000778      82.678707       0.001768  \n",
       "std         0.604908       0.363668     182.830591       0.042005  \n",
       "min        -2.836627      -8.260909       0.000000       0.000000  \n",
       "25%        -0.355769      -0.070515       5.990000       0.000000  \n",
       "50%         0.040630       0.001583      22.450000       0.000000  \n",
       "75%         0.438819       0.091308      77.500000       0.000000  \n",
       "max         4.022866       4.591416    2641.870000       1.000000  "
      ]
     },
     "execution_count": 3,
     "metadata": {},
     "output_type": "execute_result"
    }
   ],
   "source": [
    "train_df.describe()"
   ]
  },
  {
   "cell_type": "code",
   "execution_count": 4,
   "metadata": {
    "id": "DIMhFgcv8F1c"
   },
   "outputs": [],
   "source": [
    "# separate independent and dependent variables\n",
    "train_x = train_df.iloc[:,:-1]\n",
    "train_y = train_df.iloc[:,-1]\n",
    "test_x = test_df.iloc[:,:-1]\n",
    "test_y = test_df.iloc[:,-1]"
   ]
  },
  {
   "cell_type": "code",
   "execution_count": 5,
   "metadata": {
    "id": "1yHchclW8F1c"
   },
   "outputs": [],
   "source": [
    "# data scaling \n",
    "std = StandardScaler().fit(train_x)\n",
    "train_x_scale = pd.DataFrame(std.transform(train_x))\n",
    "test_x_scale = pd.DataFrame(std.transform(test_x))"
   ]
  },
  {
   "cell_type": "code",
   "execution_count": 6,
   "metadata": {
    "id": "7E1BorGE8F1c"
   },
   "outputs": [],
   "source": [
    "NN = MLPClassifier(solver='lbfgs', activation='logistic',alpha=1e-5, hidden_layer_sizes=(5,2), random_state=1)"
   ]
  },
  {
   "cell_type": "code",
   "execution_count": 7,
   "metadata": {
    "id": "eEN_57U68F1c"
   },
   "outputs": [],
   "source": [
    "NN.fit(train_x_scale, train_y)\n",
    "# predicted class on test_x\n",
    "test_y_pred = NN.predict(test_x_scale)\n",
    "# predicted probability of Class 1 on test_x\n",
    "test_y_pred_proba = NN.predict_proba(test_x_scale)[:,1]"
   ]
  },
  {
   "cell_type": "code",
   "execution_count": 8,
   "metadata": {
    "id": "eiULFDZ28F1c",
    "outputId": "b6aa9f2e-9204-4d10-88fb-ac1c371c0dcd"
   },
   "outputs": [
    {
     "data": {
      "image/png": "[encoded data removed]",
      "text/plain": [
       "<Figure size 432x288 with 2 Axes>"
      ]
     },
     "metadata": {
      "needs_background": "light"
     },
     "output_type": "display_data"
    }
   ],
   "source": [
    "## evaluation on testing set\n",
    "# confusion matrix\n",
    "sns.heatmap(confusion_matrix(test_y,test_y_pred),annot=True,fmt='d',cmap='viridis')\n",
    "plt.show()"
   ]
  },
  {
   "cell_type": "code",
   "execution_count": 9,
   "metadata": {
    "id": "Ia8n9Ntg8F1c",
    "outputId": "210f82fa-7844-466a-e675-05829e80949c"
   },
   "outputs": [
    {
     "name": "stdout",
     "output_type": "stream",
     "text": [
      "Random Forest:\n",
      "Precision Score=0.878\n",
      "Recall Score=0.840\n",
      "F1-score=0.859\n"
     ]
    }
   ],
   "source": [
    "# precision score\n",
    "precision = precision_score(test_y,test_y_pred)\n",
    "# recall score\n",
    "recall = recall_score(test_y,test_y_pred)\n",
    "# calculate f1 score and auc\n",
    "f1= f1_score(test_y,test_y_pred)\n",
    "print('Random Forest:\\nPrecision Score=%.3f\\nRecall Score=%.3f\\nF1-score=%.3f' % (precision,recall,f1))"
   ]
  },
  {
   "cell_type": "code",
   "execution_count": 36,
   "metadata": {
    "id": "l74mn0e28F1c",
    "outputId": "f0aea818-ccbd-43b3-bb5e-f9eee6452e34"
   },
   "outputs": [
    {
     "data": {
      "image/png": "[encoded data removed]",
      "text/plain": [
       "<Figure size 432x288 with 1 Axes>"
      ]
     },
     "metadata": {
      "needs_background": "light"
     },
     "output_type": "display_data"
    }
   ],
   "source": [
    "# Precision-Recall Curve\n",
    "RF1_precision,RF1_recall,thresholds = precision_recall_curve(test_y,test_y_pred_proba)\n",
    "# plot\n",
    "plt.plot(RF1_recall,RF1_precision,linestyle='--',label='Random Forest Model 1')\n",
    "plt.xlabel('Recall')\n",
    "plt.ylabel('Precision')\n",
    "plt.legend()\n",
    "plt.show()"
   ]
  },
  {
   "cell_type": "code",
   "execution_count": 11,
   "metadata": {
    "id": "yjAB3iqS8F1c",
    "outputId": "07f079c6-3b12-4b45-d783-1cadba355a0b"
   },
   "outputs": [
    {
     "name": "stdout",
     "output_type": "stream",
     "text": [
      "AUC=0.869\n"
     ]
    }
   ],
   "source": [
    "pr_auc = auc(RF1_recall,RF1_precision)\n",
    "print('AUC=%.3f' % (pr_auc))"
   ]
  },
  {
   "cell_type": "code",
   "execution_count": 12,
   "metadata": {
    "id": "uCBCLLuZ8F1c"
   },
   "outputs": [],
   "source": [
    "# train on oversampled data\n",
    "over = SMOTE(sampling_strategy=0.2,random_state=0)\n",
    "steps = [('o',over)]\n",
    "pipeline = Pipeline(steps=steps)"
   ]
  },
  {
   "cell_type": "code",
   "execution_count": 13,
   "metadata": {
    "id": "rk3Jb9r88F1c"
   },
   "outputs": [],
   "source": [
    "train_x_resample,train_y_resample = pipeline.fit_resample(train_x_scale,train_y)"
   ]
  },
  {
   "cell_type": "code",
   "execution_count": 14,
   "metadata": {
    "id": "NsQxETKM8F1c",
    "outputId": "aca88c08-fdeb-46bd-bbb4-d61ad4e0cf2c"
   },
   "outputs": [
    {
     "data": {
      "text/plain": [
       "Counter({0: 224770, 1: 44954})"
      ]
     },
     "execution_count": 14,
     "metadata": {},
     "output_type": "execute_result"
    }
   ],
   "source": [
    "counter = Counter(train_y_resample)\n",
    "counter"
   ]
  },
  {
   "cell_type": "code",
   "execution_count": 15,
   "metadata": {
    "id": "9QbmMwjn8F1d"
   },
   "outputs": [],
   "source": [
    "NN_2 = MLPClassifier(solver='adam', activation='logistic',alpha=1e-5, hidden_layer_sizes=(5,2), random_state=1)"
   ]
  },
  {
   "cell_type": "code",
   "execution_count": 16,
   "metadata": {
    "id": "uz5Jynnp8F1d"
   },
   "outputs": [],
   "source": [
    "NN_2.fit(train_x_resample, train_y_resample)\n",
    "# predicted class on test_x\n",
    "test_y_resample_pred = NN_2.predict(test_x_scale)\n",
    "# predicted probability of Class 1 on test_x\n",
    "test_y_resample_pred_proba = NN.predict_proba(test_x_scale)[:,1]"
   ]
  },
  {
   "cell_type": "code",
   "execution_count": 35,
   "metadata": {
    "id": "Vd1SPZFP8F1d",
    "outputId": "0062a750-d674-488f-cf34-294862100d3d"
   },
   "outputs": [
    {
     "data": {
      "image/png": "[encoded data removed]",
      "text/plain": [
       "<Figure size 432x288 with 2 Axes>"
      ]
     },
     "metadata": {
      "needs_background": "light"
     },
     "output_type": "display_data"
    }
   ],
   "source": [
    "## evaluation on testing set\n",
    "# confusion matrix\n",
    "sns.heatmap(confusion_matrix(test_y,test_y_resample_pred),annot=True,fmt='d',cmap='viridis')\n",
    "plt.show()"
   ]
  },
  {
   "cell_type": "code",
   "execution_count": 18,
   "metadata": {
    "id": "mxtv8fQW8F1d",
    "outputId": "7d583caf-85ea-4821-f453-c6900c94de46"
   },
   "outputs": [
    {
     "name": "stdout",
     "output_type": "stream",
     "text": [
      "Random Forest:\n",
      "Precision Score=0.160\n",
      "Recall Score=0.926\n",
      "F1-score=0.273\n"
     ]
    }
   ],
   "source": [
    "# precision score\n",
    "precision = precision_score(test_y,test_y_resample_pred)\n",
    "# recall score\n",
    "recall = recall_score(test_y,test_y_resample_pred)\n",
    "# calculate f1 score and auc\n",
    "f1= f1_score(test_y,test_y_resample_pred)\n",
    "print('Random Forest:\\nPrecision Score=%.3f\\nRecall Score=%.3f\\nF1-score=%.3f' % (precision,recall,f1))"
   ]
  },
  {
   "cell_type": "code",
   "execution_count": 37,
   "metadata": {
    "id": "nzdgMw7n8F1d",
    "outputId": "a9606f84-1d70-46b9-dd1c-aee2deae1071"
   },
   "outputs": [
    {
     "data": {
      "image/png": "[encoded data removed]",
      "text/plain": [
       "<Figure size 432x288 with 1 Axes>"
      ]
     },
     "metadata": {
      "needs_background": "light"
     },
     "output_type": "display_data"
    }
   ],
   "source": [
    "#Recall Curve\n",
    "RF1_precision_resample,RF1_recall_resample,thresholds = precision_recall_curve(test_y,test_y_resample_pred_proba)\n",
    "\n",
    "# plot\n",
    "plt.plot(RF1_recall,RF1_precision,linestyle='--',label='Before oversampling')\n",
    "plt.plot(RF1_recall_resample,RF1_precision_resample,marker='.',label='After oversampling')\n",
    "plt.xlabel('Recall')\n",
    "plt.ylabel('Precision')\n",
    "plt.legend()\n",
    "plt.show()"
   ]
  },
  {
   "cell_type": "code",
   "execution_count": 20,
   "metadata": {
    "id": "SgbMcBG88F1d",
    "outputId": "7d9c8709-eefc-45b6-af39-7e074aba7b59"
   },
   "outputs": [
    {
     "name": "stdout",
     "output_type": "stream",
     "text": [
      "AUC=0.869\n"
     ]
    }
   ],
   "source": [
    "pr_auc = auc(RF1_recall_resample,RF1_precision_resample)\n",
    "print('AUC=%.3f' % (pr_auc))"
   ]
  },
  {
   "cell_type": "code",
   "execution_count": 33,
   "metadata": {
    "id": "_8XXNr5I8F1d",
    "outputId": "9fba3af3-f584-40dc-9cc7-365b70beeba0"
   },
   "outputs": [
    {
     "name": "stdout",
     "output_type": "stream",
     "text": [
      "Best Threshold=0.780, F1-Score=0.863, Precision=0.888, Recall=0.840\n"
     ]
    }
   ],
   "source": [
    "from numpy import argmax\n",
    "fscore = (2 * RF1_precision_resample * RF1_recall_resample) / (RF1_precision_resample + RF1_recall_resample)\n",
    "# locate the index of the largest f score\n",
    "ix = argmax(fscore)\n",
    "print('Best Threshold=%.3f, F1-Score=%.3f, Precision=%.3f, Recall=%.3f' % (thresholds[ix], fscore[ix],RF1_precision_resample[ix],RF1_recall_resample[ix]))"
   ]
  },
  {
   "cell_type": "code",
   "execution_count": 34,
   "metadata": {
    "id": "4UVNc6X_8F1d",
    "outputId": "b1a91b3c-4476-425c-d8df-cd29b1a0a447"
   },
   "outputs": [
    {
     "data": {
      "image/png": "[encoded data removed]",
      "text/plain": [
       "<Figure size 432x288 with 2 Axes>"
      ]
     },
     "metadata": {
      "needs_background": "light"
     },
     "output_type": "display_data"
    }
   ],
   "source": [
    "# new confusion matrix for threshold[ix]\n",
    "test_y_resample_pred_new = [1 if proba >= thresholds[ix] else 0 for proba in test_y_resample_pred_proba]\n",
    "sns.heatmap(confusion_matrix(test_y,test_y_resample_pred_new),annot=True,fmt='d',cmap='viridis')\n",
    "plt.show()"
   ]
  },
  {
   "cell_type": "code",
   "execution_count": null,
   "metadata": {},
   "outputs": [],
   "source": []
  }
 ],
 "metadata": {
  "colab": {
   "name": "ann.ipynb",
   "provenance": []
  },
  "kernelspec": {
   "display_name": "Python 3",
   "language": "python",
   "name": "python3"
  },
  "language_info": {
   "codemirror_mode": {
    "name": "ipython",
    "version": 3
   },
   "file_extension": ".py",
   "mimetype": "text/x-python",
   "name": "python",
   "nbconvert_exporter": "python",
   "pygments_lexer": "ipython3",
   "version": "3.7.3"
  }
 },
 "nbformat": 4,
 "nbformat_minor": 1
}
