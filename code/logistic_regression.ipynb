{
 "cells": [
  {
   "cell_type": "code",
   "execution_count": 1,
   "metadata": {
    "id": "PeRJ5IF9CMv1"
   },
   "outputs": [],
   "source": [
    "import pandas as pd \n",
    "import numpy as np\n",
    "from sklearn.model_selection import train_test_split\n",
    "from sklearn.metrics import (\n",
    "    confusion_matrix, \n",
    "    precision_score,\n",
    "    recall_score,\n",
    "    f1_score,\n",
    "    auc, \n",
    "    classification_report, \n",
    "    plot_confusion_matrix, \n",
    "    precision_recall_curve\n",
    ")\n",
    "from sklearn.linear_model import LogisticRegression\n",
    "from sklearn.model_selection import GridSearchCV, RandomizedSearchCV\n",
    "from sklearn.linear_model import SGDClassifier\n",
    "from imblearn.over_sampling import SMOTE\n",
    "from imblearn.pipeline import Pipeline\n",
    "from sklearn.decomposition import PCA\n",
    "import matplotlib.gridspec as gridspec\n",
    "import matplotlib.pyplot as plt  \n",
    "import seaborn as sns"
   ]
  },
  {
   "cell_type": "code",
   "execution_count": 2,
   "metadata": {
    "id": "mgrsR8QwRx-x"
   },
   "outputs": [],
   "source": [
    "data_folder = 'dataset'"
   ]
  },
  {
   "cell_type": "code",
   "execution_count": 3,
   "metadata": {
    "id": "R0JJqaVxEk-t"
   },
   "outputs": [],
   "source": [
    "# load data\n",
    "train_df = pd.read_csv(data_folder+\"/training.csv\")\n",
    "test_df = pd.read_csv(data_folder+\"/testing.csv\")"
   ]
  },
  {
   "cell_type": "code",
   "execution_count": 4,
   "metadata": {
    "id": "eGcjA7sqRttC"
   },
   "outputs": [],
   "source": [
    "# scaling Amount\n",
    "train_df['Amount'] = (train_df['Amount'] - train_df['Amount'].mean())/train_df['Amount'].std()\n",
    "test_df['Amount'] = (test_df['Amount'] - test_df['Amount'].mean())/test_df['Amount'].std()"
   ]
  },
  {
   "cell_type": "code",
   "execution_count": 5,
   "metadata": {
    "id": "3sNJ4WXXRttC",
    "outputId": "b4f4c5d6-a479-4a45-c496-3e9954ab65d7"
   },
   "outputs": [
    {
     "data": {
      "text/plain": [
       "398"
      ]
     },
     "execution_count": 5,
     "metadata": {},
     "output_type": "execute_result"
    }
   ],
   "source": [
    "train_df['Class'].sum()"
   ]
  },
  {
   "cell_type": "markdown",
   "metadata": {
    "id": "5HQdiX1gRttD"
   },
   "source": [
    "### Before oversmapling"
   ]
  },
  {
   "cell_type": "code",
   "execution_count": 6,
   "metadata": {
    "id": "gukQaVV6RttD"
   },
   "outputs": [],
   "source": [
    "# separate x and y\n",
    "x_train, y_train = train_df.iloc[:,:19], train_df.iloc[:,19]\n",
    "x_test, y_test = test_df.iloc[:,:19], test_df.iloc[:,19] "
   ]
  },
  {
   "cell_type": "code",
   "execution_count": 7,
   "metadata": {
    "colab": {
     "base_uri": "https://localhost:8080/"
    },
    "executionInfo": {
     "elapsed": 963,
     "status": "ok",
     "timestamp": 1605936981527,
     "user": {
      "displayName": "Jinghan Sun",
      "photoUrl": "https://lh3.googleusercontent.com/a-/AOh14Gjn1LY-Outcq9qwjpgKonWBRPpydiDrEesjKRtQD44=s64",
      "userId": "14505334765051599201"
     },
     "user_tz": -480
    },
    "id": "gJYcoqQARttD",
    "outputId": "cbcc8160-626b-43d2-d5cf-001ef460c276"
   },
   "outputs": [
    {
     "name": "stdout",
     "output_type": "stream",
     "text": [
      "224770\n",
      "398\n"
     ]
    }
   ],
   "source": [
    "print(y_train[y_train==0].shape[0])\n",
    "print(y_train[y_train==1].shape[0])"
   ]
  },
  {
   "cell_type": "code",
   "execution_count": 8,
   "metadata": {
    "colab": {
     "base_uri": "https://localhost:8080/"
    },
    "executionInfo": {
     "elapsed": 44744,
     "status": "ok",
     "timestamp": 1605937183071,
     "user": {
      "displayName": "Jinghan Sun",
      "photoUrl": "https://lh3.googleusercontent.com/a-/AOh14Gjn1LY-Outcq9qwjpgKonWBRPpydiDrEesjKRtQD44=s64",
      "userId": "14505334765051599201"
     },
     "user_tz": -480
    },
    "id": "esrLLzmKFAWv",
    "outputId": "d0f74586-82ef-4bc1-82a8-9537e67d8bba"
   },
   "outputs": [
    {
     "data": {
      "text/plain": [
       "GridSearchCV(estimator=LogisticRegression(),\n",
       "             param_grid={'C': array([1.e-03, 1.e-02, 1.e-01, 1.e+00, 1.e+01, 1.e+02, 1.e+03])},\n",
       "             scoring='f1')"
      ]
     },
     "execution_count": 8,
     "metadata": {},
     "output_type": "execute_result"
    }
   ],
   "source": [
    "# Fine best parameters using grid search\n",
    "logReg = LogisticRegression()\n",
    "grid={\"C\":np.logspace(-3,3,7)}\n",
    "logreg_cv=GridSearchCV(logReg,grid,scoring='f1')\n",
    "logreg_cv.fit(x_train,y_train)"
   ]
  },
  {
   "cell_type": "code",
   "execution_count": 9,
   "metadata": {
    "colab": {
     "base_uri": "https://localhost:8080/"
    },
    "executionInfo": {
     "elapsed": 898,
     "status": "ok",
     "timestamp": 1605937136394,
     "user": {
      "displayName": "Jinghan Sun",
      "photoUrl": "https://lh3.googleusercontent.com/a-/AOh14Gjn1LY-Outcq9qwjpgKonWBRPpydiDrEesjKRtQD44=s64",
      "userId": "14505334765051599201"
     },
     "user_tz": -480
    },
    "id": "HQQnn4yWT-tH",
    "outputId": "1f87efa5-0be8-478c-d30f-d347bd865b0c"
   },
   "outputs": [
    {
     "name": "stdout",
     "output_type": "stream",
     "text": [
      "tuned hpyerparameters :(best parameters)  {'C': 1.0}\n",
      "f1 score : 0.756\n"
     ]
    }
   ],
   "source": [
    "print(\"tuned hpyerparameters :(best parameters) \",logreg_cv.best_params_)\n",
    "print(\"f1 score : %.3f\"%logreg_cv.best_score_)"
   ]
  },
  {
   "cell_type": "code",
   "execution_count": 10,
   "metadata": {
    "colab": {
     "base_uri": "https://localhost:8080/"
    },
    "executionInfo": {
     "elapsed": 2393,
     "status": "ok",
     "timestamp": 1605937193105,
     "user": {
      "displayName": "Jinghan Sun",
      "photoUrl": "https://lh3.googleusercontent.com/a-/AOh14Gjn1LY-Outcq9qwjpgKonWBRPpydiDrEesjKRtQD44=s64",
      "userId": "14505334765051599201"
     },
     "user_tz": -480
    },
    "id": "_rR7Bdj_RttD",
    "outputId": "77c6c648-1a90-4e4d-be5b-bf3623927344"
   },
   "outputs": [
    {
     "data": {
      "text/plain": [
       "LogisticRegression(C=1)"
      ]
     },
     "execution_count": 10,
     "metadata": {},
     "output_type": "execute_result"
    }
   ],
   "source": [
    "# build model using best parameter and train model\n",
    "logReg = LogisticRegression(solver='lbfgs', C=1, penalty='l2')\n",
    "logReg.fit(x_train, y_train)"
   ]
  },
  {
   "cell_type": "code",
   "execution_count": 11,
   "metadata": {
    "id": "B6Q-v_TAFlCn"
   },
   "outputs": [],
   "source": [
    "# predicted class on test set\n",
    "preds = logReg.predict(x_test)\n",
    "# predicted probabiltiy on test set\n",
    "preds_prob = logReg.predict_proba(x_test)"
   ]
  },
  {
   "cell_type": "code",
   "execution_count": 12,
   "metadata": {
    "colab": {
     "base_uri": "https://localhost:8080/",
     "height": 265
    },
    "executionInfo": {
     "elapsed": 972,
     "status": "ok",
     "timestamp": 1605937353569,
     "user": {
      "displayName": "Jinghan Sun",
      "photoUrl": "https://lh3.googleusercontent.com/a-/AOh14Gjn1LY-Outcq9qwjpgKonWBRPpydiDrEesjKRtQD44=s64",
      "userId": "14505334765051599201"
     },
     "user_tz": -480
    },
    "id": "KS0xw_IUUfKW",
    "outputId": "a7fd2d8b-860e-4efc-c7ff-df48e213eac9"
   },
   "outputs": [
    {
     "data": {
      "image/png": "[encoded data removed]",
      "text/plain": [
       "<Figure size 432x288 with 2 Axes>"
      ]
     },
     "metadata": {
      "needs_background": "light"
     },
     "output_type": "display_data"
    }
   ],
   "source": [
    "# confusion matrix\n",
    "sns.heatmap(confusion_matrix(y_test, preds),annot=True,fmt='d',cmap='viridis')\n",
    "plt.show()"
   ]
  },
  {
   "cell_type": "code",
   "execution_count": 13,
   "metadata": {
    "colab": {
     "base_uri": "https://localhost:8080/"
    },
    "executionInfo": {
     "elapsed": 971,
     "status": "ok",
     "timestamp": 1605937615428,
     "user": {
      "displayName": "Jinghan Sun",
      "photoUrl": "https://lh3.googleusercontent.com/a-/AOh14Gjn1LY-Outcq9qwjpgKonWBRPpydiDrEesjKRtQD44=s64",
      "userId": "14505334765051599201"
     },
     "user_tz": -480
    },
    "id": "IY6PCyKlFr_r",
    "outputId": "5852fda2-0ced-4f4f-a7f4-75a5f5488356"
   },
   "outputs": [
    {
     "name": "stdout",
     "output_type": "stream",
     "text": [
      "Precision Score=0.928\n",
      "Recall Score=0.681\n",
      "F1 Score=0.785\n"
     ]
    }
   ],
   "source": [
    "# precision score\n",
    "precision = precision_score(y_test, preds)\n",
    "# recall score\n",
    "recall = recall_score(y_test, preds)\n",
    "# f1 score\n",
    "f1= f1_score(y_test, preds)\n",
    "print('Precision Score=%.3f\\nRecall Score=%.3f\\nF1 Score=%.3f' % (precision,recall,f1))"
   ]
  },
  {
   "cell_type": "code",
   "execution_count": 14,
   "metadata": {
    "colab": {
     "base_uri": "https://localhost:8080/",
     "height": 279
    },
    "executionInfo": {
     "elapsed": 866,
     "status": "ok",
     "timestamp": 1605938578202,
     "user": {
      "displayName": "Jinghan Sun",
      "photoUrl": "https://lh3.googleusercontent.com/a-/AOh14Gjn1LY-Outcq9qwjpgKonWBRPpydiDrEesjKRtQD44=s64",
      "userId": "14505334765051599201"
     },
     "user_tz": -480
    },
    "id": "0VTUmg37RttD",
    "outputId": "bfaf2a67-c966-4329-d780-0299c2d6dec1"
   },
   "outputs": [
    {
     "data": {
      "image/png": "[encoded data removed]",
      "text/plain": [
       "<Figure size 432x288 with 1 Axes>"
      ]
     },
     "metadata": {
      "needs_background": "light"
     },
     "output_type": "display_data"
    }
   ],
   "source": [
    "# Precision-recall curve\n",
    "LR_precision,LR_recall,thresholds = precision_recall_curve(y_test,preds_prob[:,1])\n",
    "plt.plot(LR_recall,LR_precision,linestyle='--',label='Before oversampling')\n",
    "plt.xlabel('Recall')\n",
    "plt.ylabel('Precision')\n",
    "plt.legend()\n",
    "plt.show()"
   ]
  },
  {
   "cell_type": "code",
   "execution_count": 15,
   "metadata": {
    "colab": {
     "base_uri": "https://localhost:8080/"
    },
    "executionInfo": {
     "elapsed": 996,
     "status": "ok",
     "timestamp": 1605938646499,
     "user": {
      "displayName": "Jinghan Sun",
      "photoUrl": "https://lh3.googleusercontent.com/a-/AOh14Gjn1LY-Outcq9qwjpgKonWBRPpydiDrEesjKRtQD44=s64",
      "userId": "14505334765051599201"
     },
     "user_tz": -480
    },
    "id": "uIXO2KWdX_cG",
    "outputId": "93256461-14c4-4a09-e025-dc1363d08560"
   },
   "outputs": [
    {
     "name": "stdout",
     "output_type": "stream",
     "text": [
      "AUC=0.837\n"
     ]
    }
   ],
   "source": [
    "# auc\n",
    "pr_auc = auc(LR_recall,LR_precision)\n",
    "print('AUC=%.3f' % (pr_auc))"
   ]
  },
  {
   "cell_type": "code",
   "execution_count": 16,
   "metadata": {
    "colab": {
     "base_uri": "https://localhost:8080/"
    },
    "executionInfo": {
     "elapsed": 893,
     "status": "ok",
     "timestamp": 1605938729449,
     "user": {
      "displayName": "Jinghan Sun",
      "photoUrl": "https://lh3.googleusercontent.com/a-/AOh14Gjn1LY-Outcq9qwjpgKonWBRPpydiDrEesjKRtQD44=s64",
      "userId": "14505334765051599201"
     },
     "user_tz": -480
    },
    "id": "8DU_BKVtXCCT",
    "outputId": "3dccd526-0b42-4808-d6b7-d260489834a3"
   },
   "outputs": [
    {
     "name": "stdout",
     "output_type": "stream",
     "text": [
      "Best Threshold=0.109, F-Score=0.825, Precision=0.821, Recall=0.830\n"
     ]
    }
   ],
   "source": [
    "# threshold moving\n",
    "# Finetuning the decision threshold\n",
    "from numpy import argmax\n",
    "fscore = (2 * LR_precision * LR_recall) / (LR_precision + LR_recall)\n",
    "# locate the index of the largest f1 score\n",
    "ix = argmax(fscore)\n",
    "print('Best Threshold=%.3f, F-Score=%.3f, Precision=%.3f, Recall=%.3f' % (thresholds[ix], fscore[ix],LR_precision[ix],LR_recall[ix]))"
   ]
  },
  {
   "cell_type": "code",
   "execution_count": 17,
   "metadata": {
    "colab": {
     "base_uri": "https://localhost:8080/",
     "height": 265
    },
    "executionInfo": {
     "elapsed": 910,
     "status": "ok",
     "timestamp": 1605938116101,
     "user": {
      "displayName": "Jinghan Sun",
      "photoUrl": "https://lh3.googleusercontent.com/a-/AOh14Gjn1LY-Outcq9qwjpgKonWBRPpydiDrEesjKRtQD44=s64",
      "userId": "14505334765051599201"
     },
     "user_tz": -480
    },
    "id": "Q_SWQCsbXcGq",
    "outputId": "e1e57bce-3bf6-43ad-dda0-f6d1fe6cb2c1"
   },
   "outputs": [
    {
     "data": {
      "image/png": "[encoded data removed]",
      "text/plain": [
       "<Figure size 432x288 with 2 Axes>"
      ]
     },
     "metadata": {
      "needs_background": "light"
     },
     "output_type": "display_data"
    }
   ],
   "source": [
    "# new confusion matrix for threshold[ix]\n",
    "preds_new = [1 if proba >= thresholds[ix] else 0 for proba in preds_prob[:,1]]\n",
    "sns.heatmap(confusion_matrix(y_test,preds_new),annot=True,fmt='d',cmap='viridis')\n",
    "plt.show()"
   ]
  },
  {
   "cell_type": "markdown",
   "metadata": {
    "id": "fa223Z5B9zVf"
   },
   "source": [
    "### Oversampling using SMOTE"
   ]
  },
  {
   "cell_type": "code",
   "execution_count": 18,
   "metadata": {
    "colab": {
     "base_uri": "https://localhost:8080/"
    },
    "executionInfo": {
     "elapsed": 885,
     "status": "ok",
     "timestamp": 1605937741683,
     "user": {
      "displayName": "Jinghan Sun",
      "photoUrl": "https://lh3.googleusercontent.com/a-/AOh14Gjn1LY-Outcq9qwjpgKonWBRPpydiDrEesjKRtQD44=s64",
      "userId": "14505334765051599201"
     },
     "user_tz": -480
    },
    "id": "x7YVmafz8M_5",
    "outputId": "5464ee09-f333-404c-e193-6f6487dd235a"
   },
   "outputs": [],
   "source": [
    "sm = SMOTE(sampling_strategy=0.2,random_state=0)\n",
    "steps = [('o',sm)]\n",
    "pipeline = Pipeline(steps=steps)\n",
    "x_smote, y_smote = pipeline.fit_resample(x_train, y_train)"
   ]
  },
  {
   "cell_type": "code",
   "execution_count": 19,
   "metadata": {
    "colab": {
     "base_uri": "https://localhost:8080/"
    },
    "executionInfo": {
     "elapsed": 954,
     "status": "ok",
     "timestamp": 1605937743634,
     "user": {
      "displayName": "Jinghan Sun",
      "photoUrl": "https://lh3.googleusercontent.com/a-/AOh14Gjn1LY-Outcq9qwjpgKonWBRPpydiDrEesjKRtQD44=s64",
      "userId": "14505334765051599201"
     },
     "user_tz": -480
    },
    "id": "vpj95rRfRttE",
    "outputId": "b9c5238e-572f-407d-a869-ad0d68250284"
   },
   "outputs": [
    {
     "name": "stdout",
     "output_type": "stream",
     "text": [
      "224770\n",
      "44954\n"
     ]
    }
   ],
   "source": [
    "print(y_smote[y_smote==0].shape[0])\n",
    "print(y_smote[y_smote==1].shape[0])"
   ]
  },
  {
   "cell_type": "code",
   "execution_count": 20,
   "metadata": {
    "colab": {
     "base_uri": "https://localhost:8080/"
    },
    "executionInfo": {
     "elapsed": 2792,
     "status": "ok",
     "timestamp": 1605937822179,
     "user": {
      "displayName": "Jinghan Sun",
      "photoUrl": "https://lh3.googleusercontent.com/a-/AOh14Gjn1LY-Outcq9qwjpgKonWBRPpydiDrEesjKRtQD44=s64",
      "userId": "14505334765051599201"
     },
     "user_tz": -480
    },
    "id": "G4QytmZdRttE",
    "outputId": "ddf17a52-19dc-4a1b-c55b-a0baa1c128ca"
   },
   "outputs": [
    {
     "data": {
      "text/plain": [
       "LogisticRegression(C=1, random_state=0)"
      ]
     },
     "execution_count": 20,
     "metadata": {},
     "output_type": "execute_result"
    }
   ],
   "source": [
    "# train model\n",
    "logregSmote = LogisticRegression(solver='lbfgs', C=1,penalty='l2',random_state=0)\n",
    "logregSmote.fit(x_smote, y_smote)"
   ]
  },
  {
   "cell_type": "code",
   "execution_count": 21,
   "metadata": {
    "id": "3qC5eLyNWbup"
   },
   "outputs": [],
   "source": [
    "# predicted class on test set\n",
    "preds_smote = logregSmote.predict(x_test)\n",
    "# predicted probability on test set\n",
    "preds_prob_smote = logregSmote.predict_proba(x_test)"
   ]
  },
  {
   "cell_type": "code",
   "execution_count": 22,
   "metadata": {
    "colab": {
     "base_uri": "https://localhost:8080/",
     "height": 265
    },
    "executionInfo": {
     "elapsed": 903,
     "status": "ok",
     "timestamp": 1605938314779,
     "user": {
      "displayName": "Jinghan Sun",
      "photoUrl": "https://lh3.googleusercontent.com/a-/AOh14Gjn1LY-Outcq9qwjpgKonWBRPpydiDrEesjKRtQD44=s64",
      "userId": "14505334765051599201"
     },
     "user_tz": -480
    },
    "id": "Ur4iGAf0WvRs",
    "outputId": "872668ca-730f-401f-a2ec-06ebe2edfa86"
   },
   "outputs": [
    {
     "data": {
      "image/png": "[encoded data removed]",
      "text/plain": [
       "<Figure size 432x288 with 2 Axes>"
      ]
     },
     "metadata": {
      "needs_background": "light"
     },
     "output_type": "display_data"
    }
   ],
   "source": [
    "# confusion matrix\n",
    "sns.heatmap(confusion_matrix(y_test, preds_smote),annot=True,fmt='d',cmap='viridis')\n",
    "plt.show()"
   ]
  },
  {
   "cell_type": "code",
   "execution_count": 23,
   "metadata": {
    "colab": {
     "base_uri": "https://localhost:8080/"
    },
    "executionInfo": {
     "elapsed": 864,
     "status": "ok",
     "timestamp": 1605938362127,
     "user": {
      "displayName": "Jinghan Sun",
      "photoUrl": "https://lh3.googleusercontent.com/a-/AOh14Gjn1LY-Outcq9qwjpgKonWBRPpydiDrEesjKRtQD44=s64",
      "userId": "14505334765051599201"
     },
     "user_tz": -480
    },
    "id": "8p8W1I3dYob2",
    "outputId": "3de02793-66ef-4a81-b30a-21a7a6e0232f"
   },
   "outputs": [
    {
     "name": "stdout",
     "output_type": "stream",
     "text": [
      "Precision Score=0.191\n",
      "Recall Score=0.926\n",
      "F1 Score=0.316\n"
     ]
    }
   ],
   "source": [
    "# precision score\n",
    "precision = precision_score(y_test, preds_smote)\n",
    "# recall score\n",
    "recall = recall_score(y_test, preds_smote)\n",
    "# f1 score\n",
    "f1= f1_score(y_test, preds_smote)\n",
    "print('Precision Score=%.3f\\nRecall Score=%.3f\\nF1 Score=%.3f' % (precision,recall,f1))"
   ]
  },
  {
   "cell_type": "code",
   "execution_count": 24,
   "metadata": {
    "colab": {
     "base_uri": "https://localhost:8080/",
     "height": 279
    },
    "executionInfo": {
     "elapsed": 982,
     "status": "ok",
     "timestamp": 1605938613916,
     "user": {
      "displayName": "Jinghan Sun",
      "photoUrl": "https://lh3.googleusercontent.com/a-/AOh14Gjn1LY-Outcq9qwjpgKonWBRPpydiDrEesjKRtQD44=s64",
      "userId": "14505334765051599201"
     },
     "user_tz": -480
    },
    "id": "52435mWFWnYv",
    "outputId": "7e39cd26-06b8-4e29-b04b-5e686d720156"
   },
   "outputs": [
    {
     "data": {
      "image/png": "[encoded data removed]",
      "text/plain": [
       "<Figure size 432x288 with 1 Axes>"
      ]
     },
     "metadata": {
      "needs_background": "light"
     },
     "output_type": "display_data"
    }
   ],
   "source": [
    "# precision-recall curve\n",
    "LR_precision_smote, LR_recall_smote, thresholds_smote = precision_recall_curve(y_test, preds_prob_smote[:,1])\n",
    "plt.plot(LR_recall,LR_precision,linestyle='--',label='Before oversampling')\n",
    "plt.plot(LR_recall_smote,LR_precision_smote,marker='.',label='After oversampling')\n",
    "plt.xlabel('Recall')\n",
    "plt.ylabel('Precision')\n",
    "plt.legend()\n",
    "plt.show()"
   ]
  },
  {
   "cell_type": "code",
   "execution_count": 25,
   "metadata": {
    "colab": {
     "base_uri": "https://localhost:8080/"
    },
    "executionInfo": {
     "elapsed": 1024,
     "status": "ok",
     "timestamp": 1605938674862,
     "user": {
      "displayName": "Jinghan Sun",
      "photoUrl": "https://lh3.googleusercontent.com/a-/AOh14Gjn1LY-Outcq9qwjpgKonWBRPpydiDrEesjKRtQD44=s64",
      "userId": "14505334765051599201"
     },
     "user_tz": -480
    },
    "id": "QjrgBQacY4Ew",
    "outputId": "60df35f3-c23e-4352-93bc-332ee07f95e3"
   },
   "outputs": [
    {
     "name": "stdout",
     "output_type": "stream",
     "text": [
      "auc score: 0.846 \n"
     ]
    }
   ],
   "source": [
    "# auc\n",
    "print(\"auc score: %.3f \"%auc(LR_recall_smote, LR_precision_smote))"
   ]
  },
  {
   "cell_type": "code",
   "execution_count": 26,
   "metadata": {
    "colab": {
     "base_uri": "https://localhost:8080/"
    },
    "executionInfo": {
     "elapsed": 881,
     "status": "ok",
     "timestamp": 1605938832155,
     "user": {
      "displayName": "Jinghan Sun",
      "photoUrl": "https://lh3.googleusercontent.com/a-/AOh14Gjn1LY-Outcq9qwjpgKonWBRPpydiDrEesjKRtQD44=s64",
      "userId": "14505334765051599201"
     },
     "user_tz": -480
    },
    "id": "qA2XcVVp-f9E",
    "outputId": "39f039a4-274a-425d-8432-c2923ba73184"
   },
   "outputs": [
    {
     "name": "stdout",
     "output_type": "stream",
     "text": [
      "Best Threshold=0.985, F-Score=0.830, Precision=0.830, Recall=0.830\n"
     ]
    }
   ],
   "source": [
    "# threshold moving\n",
    "# Finetuning the decision threshold\n",
    "fscore_smote = (2 * LR_precision_smote * LR_recall_smote) / (LR_precision_smote + LR_recall_smote)\n",
    "# locate the index of the largest f1 score\n",
    "ix = argmax(fscore_smote)\n",
    "print('Best Threshold=%.3f, F-Score=%.3f, Precision=%.3f, Recall=%.3f' % (thresholds_smote[ix], fscore_smote[ix],LR_precision_smote[ix],LR_recall_smote[ix]))"
   ]
  },
  {
   "cell_type": "code",
   "execution_count": 27,
   "metadata": {
    "colab": {
     "base_uri": "https://localhost:8080/",
     "height": 265
    },
    "executionInfo": {
     "elapsed": 971,
     "status": "ok",
     "timestamp": 1605938917567,
     "user": {
      "displayName": "Jinghan Sun",
      "photoUrl": "https://lh3.googleusercontent.com/a-/AOh14Gjn1LY-Outcq9qwjpgKonWBRPpydiDrEesjKRtQD44=s64",
      "userId": "14505334765051599201"
     },
     "user_tz": -480
    },
    "id": "4ev4Y-qZRttE",
    "outputId": "0ddc9a06-8805-4e1b-e22f-c10f8b9d9c24"
   },
   "outputs": [
    {
     "data": {
      "image/png": "[encoded data removed]",
      "text/plain": [
       "<Figure size 432x288 with 2 Axes>"
      ]
     },
     "metadata": {
      "needs_background": "light"
     },
     "output_type": "display_data"
    }
   ],
   "source": [
    "# new confusion matrix for threshold[ix]\n",
    "preds_smote_new = [1 if proba >= thresholds_smote[ix] else 0 for proba in preds_prob_smote[:,1]]\n",
    "sns.heatmap(confusion_matrix(y_test,preds_smote_new),annot=True,fmt='d',cmap='viridis')\n",
    "plt.show()"
   ]
  }
 ],
 "metadata": {
  "colab": {
   "collapsed_sections": [],
   "name": "logistic_regression.ipynb",
   "provenance": []
  },
  "kernelspec": {
   "display_name": "Python 3",
   "language": "python",
   "name": "python3"
  },
  "language_info": {
   "codemirror_mode": {
    "name": "ipython",
    "version": 3
   },
   "file_extension": ".py",
   "mimetype": "text/x-python",
   "name": "python",
   "nbconvert_exporter": "python",
   "pygments_lexer": "ipython3",
   "version": "3.7.3"
  }
 },
 "nbformat": 4,
 "nbformat_minor": 1
}
